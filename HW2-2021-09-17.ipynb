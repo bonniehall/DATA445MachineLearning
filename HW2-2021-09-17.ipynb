{
 "cells": [
  {
   "cell_type": "code",
   "execution_count": null,
   "id": "29673285",
   "metadata": {},
   "outputs": [],
   "source": [
    "## HW 2 DATA 445 Due 2021-09-17"
   ]
  },
  {
   "cell_type": "code",
   "execution_count": null,
   "id": "afeb8b59",
   "metadata": {},
   "outputs": [],
   "source": [
    "## Q1 Given 1000 records in a dataset, 1000 models are trained with 999 records as part of the training sample \n",
    "## and the remaining 1 sample for testing, and the error rate is averaged out, this validation technique is called\n",
    "\n",
    "## (c) Leave One Out Cross Validation (LOOCV)"
   ]
  },
  {
   "cell_type": "code",
   "execution_count": null,
   "id": "17efcaa1",
   "metadata": {},
   "outputs": [],
   "source": [
    "## Q2 In k-fold cross validation technique, the value of k being small could lead to which of the following\n",
    "## in relation to the error rate\n",
    "\n",
    "## ()"
   ]
  },
  {
   "cell_type": "code",
   "execution_count": null,
   "id": "ef0c3681",
   "metadata": {},
   "outputs": [],
   "source": [
    "## Q3 In k-fold cross validation technique, the value of k being large could lead to which of the following\n",
    "## in relation to the error rate\n",
    "\n"
   ]
  },
  {
   "cell_type": "code",
   "execution_count": null,
   "id": "2c0fe27a",
   "metadata": {},
   "outputs": [],
   "source": [
    "## Q4 Explain what regularization is and why it is useful.\n",
    "\n",
    "## Regularization is the shrinkage of the number of variables in a model. It is useful as reducing the number\n",
    "## of variables reduces the computational cost of a model. It also makes the model easier to understand and/or\n",
    "## explain to stakeholders."
   ]
  }
 ],
 "metadata": {
  "kernelspec": {
   "display_name": "conda_python3",
   "language": "python",
   "name": "conda_python3"
  },
  "language_info": {
   "codemirror_mode": {
    "name": "ipython",
    "version": 3
   },
   "file_extension": ".py",
   "mimetype": "text/x-python",
   "name": "python",
   "nbconvert_exporter": "python",
   "pygments_lexer": "ipython3",
   "version": "3.6.13"
  }
 },
 "nbformat": 4,
 "nbformat_minor": 5
}
