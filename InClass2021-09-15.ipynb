{
 "cells": [
  {
   "cell_type": "code",
   "execution_count": null,
   "id": "e14a0e5c",
   "metadata": {},
   "outputs": [],
   "source": [
    "## In Class 2021-09-15"
   ]
  },
  {
   "cell_type": "code",
   "execution_count": 17,
   "id": "d024ac1b",
   "metadata": {},
   "outputs": [
    {
     "data": {
      "text/html": [
       "<div>\n",
       "<style scoped>\n",
       "    .dataframe tbody tr th:only-of-type {\n",
       "        vertical-align: middle;\n",
       "    }\n",
       "\n",
       "    .dataframe tbody tr th {\n",
       "        vertical-align: top;\n",
       "    }\n",
       "\n",
       "    .dataframe thead th {\n",
       "        text-align: right;\n",
       "    }\n",
       "</style>\n",
       "<table border=\"1\" class=\"dataframe\">\n",
       "  <thead>\n",
       "    <tr style=\"text-align: right;\">\n",
       "      <th></th>\n",
       "      <th>Species</th>\n",
       "      <th>Weight</th>\n",
       "      <th>Length1</th>\n",
       "      <th>Length2</th>\n",
       "      <th>Length3</th>\n",
       "      <th>Height</th>\n",
       "      <th>Width</th>\n",
       "    </tr>\n",
       "  </thead>\n",
       "  <tbody>\n",
       "    <tr>\n",
       "      <th>0</th>\n",
       "      <td>Bream</td>\n",
       "      <td>242.0</td>\n",
       "      <td>23.2</td>\n",
       "      <td>25.4</td>\n",
       "      <td>30.0</td>\n",
       "      <td>11.5200</td>\n",
       "      <td>4.0200</td>\n",
       "    </tr>\n",
       "    <tr>\n",
       "      <th>1</th>\n",
       "      <td>Bream</td>\n",
       "      <td>290.0</td>\n",
       "      <td>24.0</td>\n",
       "      <td>26.3</td>\n",
       "      <td>31.2</td>\n",
       "      <td>12.4800</td>\n",
       "      <td>4.3056</td>\n",
       "    </tr>\n",
       "    <tr>\n",
       "      <th>2</th>\n",
       "      <td>Bream</td>\n",
       "      <td>340.0</td>\n",
       "      <td>23.9</td>\n",
       "      <td>26.5</td>\n",
       "      <td>31.1</td>\n",
       "      <td>12.3778</td>\n",
       "      <td>4.6961</td>\n",
       "    </tr>\n",
       "    <tr>\n",
       "      <th>3</th>\n",
       "      <td>Bream</td>\n",
       "      <td>363.0</td>\n",
       "      <td>26.3</td>\n",
       "      <td>29.0</td>\n",
       "      <td>33.5</td>\n",
       "      <td>12.7300</td>\n",
       "      <td>4.4555</td>\n",
       "    </tr>\n",
       "    <tr>\n",
       "      <th>4</th>\n",
       "      <td>Bream</td>\n",
       "      <td>430.0</td>\n",
       "      <td>26.5</td>\n",
       "      <td>29.0</td>\n",
       "      <td>34.0</td>\n",
       "      <td>12.4440</td>\n",
       "      <td>5.1340</td>\n",
       "    </tr>\n",
       "  </tbody>\n",
       "</table>\n",
       "</div>"
      ],
      "text/plain": [
       "  Species  Weight  Length1  Length2  Length3   Height   Width\n",
       "0   Bream   242.0     23.2     25.4     30.0  11.5200  4.0200\n",
       "1   Bream   290.0     24.0     26.3     31.2  12.4800  4.3056\n",
       "2   Bream   340.0     23.9     26.5     31.1  12.3778  4.6961\n",
       "3   Bream   363.0     26.3     29.0     33.5  12.7300  4.4555\n",
       "4   Bream   430.0     26.5     29.0     34.0  12.4440  5.1340"
      ]
     },
     "execution_count": 17,
     "metadata": {},
     "output_type": "execute_result"
    }
   ],
   "source": [
    "## Q1 Load the data file to you S3 bucket. Using the pandas library, read the csv data file and\n",
    "## create a data-frame called fish.\n",
    "\n",
    "import pandas as pd\n",
    "import boto3\n",
    "import numpy as np\n",
    "from sklearn.model_selection import train_test_split\n",
    "from sklearn.linear_model import LinearRegression, Ridge, RidgeCV, Lasso, LassoCV\n",
    "\n",
    "## Defining the S3 bucket\n",
    "s3 = boto3.resource('s3')\n",
    "bucket_name = 'bonnieh-data-445-bucket'\n",
    "bucket = s3.Bucket(bucket_name)\n",
    "\n",
    "## Defining the file to be read from s3 bucket\n",
    "file_key = 'Fish.csv'\n",
    "\n",
    "bucket_object = bucket.Object(file_key)\n",
    "file_object = bucket_object.get()\n",
    "file_content_stream = file_object.get('Body')\n",
    "\n",
    "## Reading the csv file\n",
    "fish = pd.read_csv(file_content_stream)\n",
    "fish.head()"
   ]
  },
  {
   "cell_type": "code",
   "execution_count": 18,
   "id": "370c61d5",
   "metadata": {},
   "outputs": [],
   "source": [
    "## Q2 Using the Length1, Lenght2, Length3, Height, and Width as the predictor variables, and\n",
    "## Weight is the target variable, split the data into train (80%) and test (20%).\n",
    "\n",
    "## Defining the variables\n",
    "\n",
    "X = fish[['Length1', 'Length2', 'Length3', 'Height', 'Width']]\n",
    "Y = fish['Weight']\n",
    "\n",
    "## splitting the data\n",
    "\n",
    "X_train, X_test, Y_train, Y_test = train_test_split(X, Y, test_size = 0.20)"
   ]
  },
  {
   "cell_type": "code",
   "execution_count": 19,
   "id": "f7172a27",
   "metadata": {},
   "outputs": [
    {
     "data": {
      "text/plain": [
       "array([20.49717444,  0.        ,  0.        , 13.28271839, 58.31275155])"
      ]
     },
     "execution_count": 19,
     "metadata": {},
     "output_type": "execute_result"
    }
   ],
   "source": [
    "## Q3 Using the train dataset, perform LASSO as a variable selector.\n",
    "\n",
    "## running cross-validation and estimating lambda (alpha)\n",
    "\n",
    "lasso_cv = LassoCV(normalize = True, cv = 5, max_iter=10000).fit(X_train, Y_train)\n",
    "\n",
    "## increase number of iterations if get error asking for more\n",
    "\n",
    "## extracting the optimal lambda\n",
    "\n",
    "lasso_alpha = lasso_cv.alpha_\n",
    "lasso_alpha\n",
    "\n",
    "## Building the lasso model\n",
    "lasso_md = Lasso(alpha = lasso_alpha, normalize = True, max_iter = 10000).fit(X_train, Y_train)\n",
    "lasso_md.coef_\n",
    "\n",
    "## results show to drop variables 2 and 3--length2 and length3"
   ]
  },
  {
   "cell_type": "code",
   "execution_count": 20,
   "id": "25db74b7",
   "metadata": {},
   "outputs": [
    {
     "data": {
      "text/html": [
       "<div>\n",
       "<style scoped>\n",
       "    .dataframe tbody tr th:only-of-type {\n",
       "        vertical-align: middle;\n",
       "    }\n",
       "\n",
       "    .dataframe tbody tr th {\n",
       "        vertical-align: top;\n",
       "    }\n",
       "\n",
       "    .dataframe thead th {\n",
       "        text-align: right;\n",
       "    }\n",
       "</style>\n",
       "<table border=\"1\" class=\"dataframe\">\n",
       "  <thead>\n",
       "    <tr style=\"text-align: right;\">\n",
       "      <th></th>\n",
       "      <th>Length1</th>\n",
       "      <th>Height</th>\n",
       "      <th>Width</th>\n",
       "    </tr>\n",
       "  </thead>\n",
       "  <tbody>\n",
       "    <tr>\n",
       "      <th>146</th>\n",
       "      <td>10.0</td>\n",
       "      <td>1.9720</td>\n",
       "      <td>1.1600</td>\n",
       "    </tr>\n",
       "    <tr>\n",
       "      <th>72</th>\n",
       "      <td>7.5</td>\n",
       "      <td>2.1120</td>\n",
       "      <td>1.4080</td>\n",
       "    </tr>\n",
       "    <tr>\n",
       "      <th>131</th>\n",
       "      <td>34.8</td>\n",
       "      <td>6.2884</td>\n",
       "      <td>4.0198</td>\n",
       "    </tr>\n",
       "    <tr>\n",
       "      <th>52</th>\n",
       "      <td>24.0</td>\n",
       "      <td>8.8768</td>\n",
       "      <td>4.4968</td>\n",
       "    </tr>\n",
       "    <tr>\n",
       "      <th>115</th>\n",
       "      <td>34.6</td>\n",
       "      <td>10.5717</td>\n",
       "      <td>6.3666</td>\n",
       "    </tr>\n",
       "    <tr>\n",
       "      <th>...</th>\n",
       "      <td>...</td>\n",
       "      <td>...</td>\n",
       "      <td>...</td>\n",
       "    </tr>\n",
       "    <tr>\n",
       "      <th>24</th>\n",
       "      <td>31.9</td>\n",
       "      <td>16.2405</td>\n",
       "      <td>5.5890</td>\n",
       "    </tr>\n",
       "    <tr>\n",
       "      <th>143</th>\n",
       "      <td>56.0</td>\n",
       "      <td>9.6000</td>\n",
       "      <td>6.1440</td>\n",
       "    </tr>\n",
       "    <tr>\n",
       "      <th>87</th>\n",
       "      <td>20.0</td>\n",
       "      <td>5.6400</td>\n",
       "      <td>3.5250</td>\n",
       "    </tr>\n",
       "    <tr>\n",
       "      <th>35</th>\n",
       "      <td>12.9</td>\n",
       "      <td>4.1472</td>\n",
       "      <td>2.2680</td>\n",
       "    </tr>\n",
       "    <tr>\n",
       "      <th>81</th>\n",
       "      <td>18.2</td>\n",
       "      <td>5.0820</td>\n",
       "      <td>2.7720</td>\n",
       "    </tr>\n",
       "  </tbody>\n",
       "</table>\n",
       "<p>127 rows × 3 columns</p>\n",
       "</div>"
      ],
      "text/plain": [
       "     Length1   Height   Width\n",
       "146     10.0   1.9720  1.1600\n",
       "72       7.5   2.1120  1.4080\n",
       "131     34.8   6.2884  4.0198\n",
       "52      24.0   8.8768  4.4968\n",
       "115     34.6  10.5717  6.3666\n",
       "..       ...      ...     ...\n",
       "24      31.9  16.2405  5.5890\n",
       "143     56.0   9.6000  6.1440\n",
       "87      20.0   5.6400  3.5250\n",
       "35      12.9   4.1472  2.2680\n",
       "81      18.2   5.0820  2.7720\n",
       "\n",
       "[127 rows x 3 columns]"
      ]
     },
     "execution_count": 20,
     "metadata": {},
     "output_type": "execute_result"
    }
   ],
   "source": [
    "## Dropping the variables with zeroes\n",
    "## X_train = X_train.drop(columns = ['Length2', 'Length3'], axis = 1)\n",
    "X_test = X_test.drop(columns = ['Length2', 'Length3'], axis = 1)\n",
    "X_train = X_train.drop(columns = ['Length2', 'Length3'], axis = 1)\n",
    "X_train"
   ]
  },
  {
   "cell_type": "code",
   "execution_count": 21,
   "id": "fb437731",
   "metadata": {},
   "outputs": [],
   "source": [
    "## Q4 Using the variables from LASSO regression, normalize the inputs variables of the train and\n",
    "## test datasets using the L2 normalization. That is, for each input variable subtract the mean of that\n",
    "## variable, then divide by the L2-norm of that variable.\n",
    "\n",
    "def l2_normalization(X):\n",
    "    x_mean = np.mean(X)\n",
    "    l2 = np.sqrt(sum(X**2))\n",
    "    return (X-x_mean) /l2\n",
    "\n",
    "X_train = X_train.apply(l2_normalization, axis = 1)\n",
    "X_test = X_test.apply(l2_normalization, axis = 1)"
   ]
  },
  {
   "cell_type": "code",
   "execution_count": 22,
   "id": "e37627f5",
   "metadata": {},
   "outputs": [
    {
     "data": {
      "text/plain": [
       "134216.21149577605"
      ]
     },
     "execution_count": 22,
     "metadata": {},
     "output_type": "execute_result"
    }
   ],
   "source": [
    "## Q5  Using the train dataset, build a linear regression model. After that, use this model to predict\n",
    "## on the test dataset. Report the MSE of this model.\n",
    "\n",
    "md1 = LinearRegression().fit(X_train, Y_train)\n",
    "\n",
    "## predict on test data set\n",
    "\n",
    "md1_pred = md1.predict(X_test)\n",
    "md1_pred\n",
    "\n",
    "## computing MSE\n",
    "\n",
    "mse1 = np.mean(np.power(md1_pred - Y_test, 2))\n",
    "mse1"
   ]
  },
  {
   "cell_type": "code",
   "execution_count": 23,
   "id": "810d6e04",
   "metadata": {},
   "outputs": [
    {
     "data": {
      "text/plain": [
       "133840.03408265926"
      ]
     },
     "execution_count": 23,
     "metadata": {},
     "output_type": "execute_result"
    }
   ],
   "source": [
    "## Q6 Using the train dataset, build a ridge regression model. After that, use this model to predict\n",
    "## on the test dataset. Report the MSE of this model.\n",
    "\n",
    "ridge_cv = RidgeCV(alphas = [0.001, 0.01, 0.1,1,10, 100], cv = 5).fit(X_train, Y_train)\n",
    "ridge_alpha = ridge_cv.alpha_\n",
    "\n",
    "## building the ridge model\n",
    "ridge_md = Ridge(alpha = ridge_alpha).fit(X_train, Y_train)\n",
    "\n",
    "## predicting on the test dataset\n",
    "md2_pred = ridge_md.predict(X_test)\n",
    "\n",
    "## Computing the mse\n",
    "mse2 = np.mean(np.power(md2_pred - Y_test, 2))\n",
    "mse2"
   ]
  },
  {
   "cell_type": "code",
   "execution_count": 25,
   "id": "0689548d",
   "metadata": {},
   "outputs": [
    {
     "data": {
      "text/plain": [
       "376.1774131167913"
      ]
     },
     "execution_count": 25,
     "metadata": {},
     "output_type": "execute_result"
    }
   ],
   "source": [
    "## Q7 Using the results from parts (5) and (6), what model would you use to predict fish weight?\n",
    "## Explain.\n",
    "\n",
    "## calculate difference between mse1 and mse1\n",
    "\n",
    "mse1-mse2\n",
    "\n",
    "## the difference is not very large for this split of the data. Model 1 (the linear regression model)\n",
    "## is slightly better than model 2 (the ridge regression model).  Different data splits definitely \n",
    "## affect the results for this data set"
   ]
  }
 ],
 "metadata": {
  "kernelspec": {
   "display_name": "conda_python3",
   "language": "python",
   "name": "conda_python3"
  },
  "language_info": {
   "codemirror_mode": {
    "name": "ipython",
    "version": 3
   },
   "file_extension": ".py",
   "mimetype": "text/x-python",
   "name": "python",
   "nbconvert_exporter": "python",
   "pygments_lexer": "ipython3",
   "version": "3.6.13"
  }
 },
 "nbformat": 4,
 "nbformat_minor": 5
}
