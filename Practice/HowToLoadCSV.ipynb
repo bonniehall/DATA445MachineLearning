{
 "cells": [
  {
   "cell_type": "code",
   "execution_count": null,
   "id": "b8ce9ea1",
   "metadata": {},
   "outputs": [],
   "source": [
    "## How to load a .csv file"
   ]
  },
  {
   "cell_type": "code",
   "execution_count": null,
   "id": "71fc0125",
   "metadata": {},
   "outputs": [],
   "source": [
    "import boto3\n",
    "import pandas as pd\n",
    "\n",
    "## Defining the S3 bucket\n",
    "se = boto3.resource('s3')\n",
    "bucket_name = 'bonnieh-data-445-bucket'\n",
    "bucket = s3.Bucket(bucket_name)\n",
    "\n",
    "## Defining the file to be read from s3 bucket\n",
    "## MUST ADD FILE NAME HERE \n",
    "file_key = 'file_name.csv'\n",
    "\n",
    "bucket_object = bucket.Object(file_key)\n",
    "file_object = bucket_object.get()\n",
    "file_content_stream = file_objec t.get('Body')\n",
    "\n",
    "##R Reading the csv file\n",
    "file_name = pd.read_csv(file_content_stream)"
   ]
  }
 ],
 "metadata": {
  "kernelspec": {
   "display_name": "conda_python3",
   "language": "python",
   "name": "conda_python3"
  },
  "language_info": {
   "codemirror_mode": {
    "name": "ipython",
    "version": 3
   },
   "file_extension": ".py",
   "mimetype": "text/x-python",
   "name": "python",
   "nbconvert_exporter": "python",
   "pygments_lexer": "ipython3",
   "version": "3.6.13"
  }
 },
 "nbformat": 4,
 "nbformat_minor": 5
}
