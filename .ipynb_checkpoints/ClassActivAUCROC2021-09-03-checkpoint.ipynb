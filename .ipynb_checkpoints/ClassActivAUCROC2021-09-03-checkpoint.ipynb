{
 "cells": [
  {
   "cell_type": "code",
   "execution_count": null,
   "id": "146e650c",
   "metadata": {},
   "outputs": [],
   "source": [
    "## Class Activity AUCROC curve 2021-09-03"
   ]
  },
  {
   "cell_type": "code",
   "execution_count": null,
   "id": "1df0a1ff",
   "metadata": {},
   "outputs": [],
   "source": [
    "##Q1  Using the pandas library, read the csv data file and create a data-frame called heart.\n",
    "\n",
    "import boto3\n",
    "import pandas as pd\n",
    "import numpy as np\n",
    "from sklearn\n",
    "from sklearn.metrics import accuracy_score, confusion)matrix, roc_curve\n",
    "\n",
    "## Defining the S3 bucket\n",
    "s3 = boto3.resource('s3')\n",
    "bucket_name = 'bonnieh-data-445-bucket'\n",
    "bucket = s3.Bucket(bucket_name)\n",
    "\n",
    "## Defining the file to be read from s3 bucket\n",
    "file_key = 'framingham.csv'\n",
    "\n",
    "bucket_object = bucket.Object(file_key)\n",
    "file_object = bucket_object.get()\n",
    "file_content_stream = file_object.get('Body')\n",
    "\n",
    "##R Reading the csv file\n",
    "heart = pd.read_csv(file_content_stream)\n",
    "heart"
   ]
  }
 ],
 "metadata": {
  "kernelspec": {
   "display_name": "conda_python3",
   "language": "python",
   "name": "conda_python3"
  },
  "language_info": {
   "codemirror_mode": {
    "name": "ipython",
    "version": 3
   },
   "file_extension": ".py",
   "mimetype": "text/x-python",
   "name": "python",
   "nbconvert_exporter": "python",
   "pygments_lexer": "ipython3",
   "version": "3.6.13"
  }
 },
 "nbformat": 4,
 "nbformat_minor": 5
}
