{
 "cells": [
  {
   "cell_type": "code",
   "execution_count": 1,
   "id": "22d21c08",
   "metadata": {},
   "outputs": [],
   "source": [
    "## In Class 2021-10-20"
   ]
  },
  {
   "cell_type": "code",
   "execution_count": 2,
   "id": "1a60a4b1",
   "metadata": {},
   "outputs": [
    {
     "data": {
      "text/html": [
       "<div>\n",
       "<style scoped>\n",
       "    .dataframe tbody tr th:only-of-type {\n",
       "        vertical-align: middle;\n",
       "    }\n",
       "\n",
       "    .dataframe tbody tr th {\n",
       "        vertical-align: top;\n",
       "    }\n",
       "\n",
       "    .dataframe thead th {\n",
       "        text-align: right;\n",
       "    }\n",
       "</style>\n",
       "<table border=\"1\" class=\"dataframe\">\n",
       "  <thead>\n",
       "    <tr style=\"text-align: right;\">\n",
       "      <th></th>\n",
       "      <th>male</th>\n",
       "      <th>age</th>\n",
       "      <th>education</th>\n",
       "      <th>currentSmoker</th>\n",
       "      <th>cigsPerDay</th>\n",
       "      <th>BPMeds</th>\n",
       "      <th>prevalentStroke</th>\n",
       "      <th>prevalentHyp</th>\n",
       "      <th>diabetes</th>\n",
       "      <th>totChol</th>\n",
       "      <th>sysBP</th>\n",
       "      <th>diaBP</th>\n",
       "      <th>BMI</th>\n",
       "      <th>heartRate</th>\n",
       "      <th>glucose</th>\n",
       "      <th>TenYearCHD</th>\n",
       "    </tr>\n",
       "  </thead>\n",
       "  <tbody>\n",
       "    <tr>\n",
       "      <th>0</th>\n",
       "      <td>1</td>\n",
       "      <td>39</td>\n",
       "      <td>4.0</td>\n",
       "      <td>0</td>\n",
       "      <td>0.0</td>\n",
       "      <td>0.0</td>\n",
       "      <td>0</td>\n",
       "      <td>0</td>\n",
       "      <td>0</td>\n",
       "      <td>195.0</td>\n",
       "      <td>106.0</td>\n",
       "      <td>70.0</td>\n",
       "      <td>26.97</td>\n",
       "      <td>80.0</td>\n",
       "      <td>77.0</td>\n",
       "      <td>0</td>\n",
       "    </tr>\n",
       "    <tr>\n",
       "      <th>1</th>\n",
       "      <td>0</td>\n",
       "      <td>46</td>\n",
       "      <td>2.0</td>\n",
       "      <td>0</td>\n",
       "      <td>0.0</td>\n",
       "      <td>0.0</td>\n",
       "      <td>0</td>\n",
       "      <td>0</td>\n",
       "      <td>0</td>\n",
       "      <td>250.0</td>\n",
       "      <td>121.0</td>\n",
       "      <td>81.0</td>\n",
       "      <td>28.73</td>\n",
       "      <td>95.0</td>\n",
       "      <td>76.0</td>\n",
       "      <td>0</td>\n",
       "    </tr>\n",
       "    <tr>\n",
       "      <th>2</th>\n",
       "      <td>1</td>\n",
       "      <td>48</td>\n",
       "      <td>1.0</td>\n",
       "      <td>1</td>\n",
       "      <td>20.0</td>\n",
       "      <td>0.0</td>\n",
       "      <td>0</td>\n",
       "      <td>0</td>\n",
       "      <td>0</td>\n",
       "      <td>245.0</td>\n",
       "      <td>127.5</td>\n",
       "      <td>80.0</td>\n",
       "      <td>25.34</td>\n",
       "      <td>75.0</td>\n",
       "      <td>70.0</td>\n",
       "      <td>0</td>\n",
       "    </tr>\n",
       "    <tr>\n",
       "      <th>3</th>\n",
       "      <td>0</td>\n",
       "      <td>61</td>\n",
       "      <td>3.0</td>\n",
       "      <td>1</td>\n",
       "      <td>30.0</td>\n",
       "      <td>0.0</td>\n",
       "      <td>0</td>\n",
       "      <td>1</td>\n",
       "      <td>0</td>\n",
       "      <td>225.0</td>\n",
       "      <td>150.0</td>\n",
       "      <td>95.0</td>\n",
       "      <td>28.58</td>\n",
       "      <td>65.0</td>\n",
       "      <td>103.0</td>\n",
       "      <td>1</td>\n",
       "    </tr>\n",
       "    <tr>\n",
       "      <th>4</th>\n",
       "      <td>0</td>\n",
       "      <td>46</td>\n",
       "      <td>3.0</td>\n",
       "      <td>1</td>\n",
       "      <td>23.0</td>\n",
       "      <td>0.0</td>\n",
       "      <td>0</td>\n",
       "      <td>0</td>\n",
       "      <td>0</td>\n",
       "      <td>285.0</td>\n",
       "      <td>130.0</td>\n",
       "      <td>84.0</td>\n",
       "      <td>23.10</td>\n",
       "      <td>85.0</td>\n",
       "      <td>85.0</td>\n",
       "      <td>0</td>\n",
       "    </tr>\n",
       "  </tbody>\n",
       "</table>\n",
       "</div>"
      ],
      "text/plain": [
       "   male  age  education  currentSmoker  cigsPerDay  BPMeds  prevalentStroke  \\\n",
       "0     1   39        4.0              0         0.0     0.0                0   \n",
       "1     0   46        2.0              0         0.0     0.0                0   \n",
       "2     1   48        1.0              1        20.0     0.0                0   \n",
       "3     0   61        3.0              1        30.0     0.0                0   \n",
       "4     0   46        3.0              1        23.0     0.0                0   \n",
       "\n",
       "   prevalentHyp  diabetes  totChol  sysBP  diaBP    BMI  heartRate  glucose  \\\n",
       "0             0         0    195.0  106.0   70.0  26.97       80.0     77.0   \n",
       "1             0         0    250.0  121.0   81.0  28.73       95.0     76.0   \n",
       "2             0         0    245.0  127.5   80.0  25.34       75.0     70.0   \n",
       "3             1         0    225.0  150.0   95.0  28.58       65.0    103.0   \n",
       "4             0         0    285.0  130.0   84.0  23.10       85.0     85.0   \n",
       "\n",
       "   TenYearCHD  \n",
       "0           0  \n",
       "1           0  \n",
       "2           0  \n",
       "3           1  \n",
       "4           0  "
      ]
     },
     "execution_count": 2,
     "metadata": {},
     "output_type": "execute_result"
    }
   ],
   "source": [
    "## Q1 Using the pandas library, read the csv data file and create a data-frame called heart\n",
    "\n",
    "import pandas as pd\n",
    "import numpy as np\n",
    "import boto3\n",
    "from sklearn.model_selection import train_test_split\n",
    "from sklearn.ensemble import RandomForestClassifier, AdaBoostClassifier\n",
    "from sklearn.metrics import recall_score\n",
    "from sklearn.tree import DecisionTreeClassifier\n",
    "## import matplotlib.pyplot as plt\n",
    "\n",
    "## Defining the s3 bucket\n",
    "s3 = boto3.resource('s3')\n",
    "bucket_name = 'bonnieh-data-445-bucket'\n",
    "bucket = s3.Bucket(bucket_name)\n",
    "\n",
    "## Defining the file to be used\n",
    "file_key = 'framingham.csv'\n",
    "\n",
    "bucket_object = bucket.Object(file_key)\n",
    "file_object = bucket_object.get()\n",
    "file_content_stream = file_object.get('Body')\n",
    "\n",
    "## Reading the csv file\n",
    "heart = pd.read_csv(file_content_stream)\n",
    "heart.head()"
   ]
  },
  {
   "cell_type": "code",
   "execution_count": 3,
   "id": "36616059",
   "metadata": {},
   "outputs": [],
   "source": [
    "## Q2 Remove observations with missing values.\n",
    "\n",
    "heart = heart.dropna()"
   ]
  },
  {
   "cell_type": "code",
   "execution_count": 4,
   "id": "8786ac18",
   "metadata": {},
   "outputs": [],
   "source": [
    "## Q3 Using male, age, currentSmoker, totChol, sysBP,BMI, heartRate, and glucose as the\n",
    "## predictor variables, and TenYearCHD is the target variable, split the data into two data-frames (taking\n",
    "## into account the proportion of 0s and 1s): train (80%) and test (20%).\n",
    "\n",
    "## defining the variables\n",
    "X = heart[['male', 'age', 'currentSmoker', 'totChol', 'sysBP', 'BMI', 'heartRate', 'glucose']]\n",
    "Y = heart['TenYearCHD']\n",
    "\n",
    "## splitting the data\n",
    "X_train, X_test, Y_train, Y_test = train_test_split(X, Y, test_size = 0.2, stratify = Y)"
   ]
  },
  {
   "cell_type": "code",
   "execution_count": 5,
   "id": "cb60fba2",
   "metadata": {},
   "outputs": [
    {
     "data": {
      "text/plain": [
       "array([0.01577722, 0.11038133, 0.01458676, 0.1820629 , 0.17959864,\n",
       "       0.24473647, 0.11137681, 0.14147987])"
      ]
     },
     "execution_count": 5,
     "metadata": {},
     "output_type": "execute_result"
    }
   ],
   "source": [
    "## Q4  Using the train data-frame, build an adaboost model (with 500 trees and max tree depth\n",
    "## equal 3) in which: male, age, currentSmoker, totChol, sysBP,BMI, heartRate, and glucose are the\n",
    "## predictor variables, and TenYearCHD is the target variable. After that, using the top 5 variables from\n",
    "##the AdaBoost model (the variables with the highest importance values), build a random forest\n",
    "## model (with 500 trees and max tree depth equal 3) in which TenYearCHD is the target variable. Using\n",
    "## this model, predict the risk of coronary disease of the patients in the test data-frame. Using 10% as\n",
    "## cutoff value, report the recall.\n",
    "\n",
    "md1 = AdaBoostClassifier(base_estimator = DecisionTreeClassifier(max_depth = 3), n_estimators = 500).fit(X_train, Y_train)\n",
    "\n",
    "## extracting feature importances\n",
    "md1.feature_importances_\n",
    "\n",
    "## top variables are BMI, totChol, sysBP, glucose, heartRate"
   ]
  },
  {
   "cell_type": "code",
   "execution_count": 6,
   "id": "e2ba19ed",
   "metadata": {},
   "outputs": [
    {
     "data": {
      "text/plain": [
       "1.0"
      ]
     },
     "execution_count": 6,
     "metadata": {},
     "output_type": "execute_result"
    }
   ],
   "source": [
    "## Adaboost with top 5 variables\n",
    "\n",
    "X_train_ada = X_train[['totChol', 'sysBP', 'BMI', 'heartRate', 'glucose']]\n",
    "X_test_ada =  X_test[['totChol', 'sysBP', 'BMI', 'heartRate', 'glucose']]\n",
    "\n",
    "md1_top5 = AdaBoostClassifier(base_estimator = DecisionTreeClassifier(max_depth = 3), n_estimators = 500).fit(X_train_ada, Y_train)\n",
    "\n",
    "pred1 = md1_top5.predict_proba(X_test_ada)[:,1]\n",
    "pred1 = np.where(pred1 < 0.1, 0, 1)\n",
    "\n",
    "## calculate the recall\n",
    "recall_score(Y_test, pred1)"
   ]
  },
  {
   "cell_type": "code",
   "execution_count": 7,
   "id": "701a0e4a",
   "metadata": {},
   "outputs": [
    {
     "data": {
      "text/plain": [
       "array([0.05921597, 0.3208526 , 0.00742779, 0.08391515, 0.26787079,\n",
       "       0.07925624, 0.03089049, 0.15057097])"
      ]
     },
     "execution_count": 7,
     "metadata": {},
     "output_type": "execute_result"
    }
   ],
   "source": [
    "## Random forest variable selection\n",
    "\n",
    "md2 = RandomForestClassifier(n_estimators = 500, max_depth =3).fit(X_train, Y_train)\n",
    "\n",
    "md2.feature_importances_\n",
    "\n",
    "## most important variables are 2, 5, 8, 4, 6 (age, sysBP, glucose, totChol, BMI )"
   ]
  },
  {
   "cell_type": "code",
   "execution_count": 10,
   "id": "851a7c27",
   "metadata": {},
   "outputs": [
    {
     "data": {
      "text/plain": [
       "0.7767857142857143"
      ]
     },
     "execution_count": 10,
     "metadata": {},
     "output_type": "execute_result"
    }
   ],
   "source": [
    "## Using the train data-frame, build a random forest model (with 500 trees and max tree depth\n",
    "## equal 3) in which: male, age, currentSmoker, totChol, sysBP,BMI, heartRate, and glucose are the\n",
    "## predictor variables, and TenYearCHD is the target variable. After that, using the top 5 variables from\n",
    "## the random forest model (the variables with the highest importance values), build a random forest\n",
    "## model (with 500 trees and max tree depth equal 3) in which TenYearCHD is the target variable. Using\n",
    "## this model, predict the risk of coronary disease of the patients in the test data-frame. Using 10% as\n",
    "## cutoff value, report the recall.\n",
    "\n",
    "## Random forest with selected variables\n",
    "\n",
    "## selecting top 5 variables\n",
    "X_train_rf = X_train[['age', 'totChol', 'sysBP', 'BMI', 'glucose']]\n",
    "X_test_rf = X_test[['age', 'totChol', 'sysBP', 'BMI', 'glucose']]\n",
    "                    \n",
    "## building the random forest model                   \n",
    "md2_top5 = RandomForestClassifier(n_estimators = 5, max_depth = 3).fit(X_train_rf, Y_train)\n",
    "                    \n",
    "## predicting the outcomes\n",
    "pred2 = md2_top5.predict_proba(X_test_rf)[:,1]\n",
    "pred2 = np.where(pred2 < 0.1, 0, 1)\n",
    "                    \n",
    "## calculating the recal\n",
    "recall_score(Y_test, pred2)"
   ]
  },
  {
   "cell_type": "code",
   "execution_count": null,
   "id": "e6bd8b55",
   "metadata": {},
   "outputs": [],
   "source": [
    "##  Using the results from parts (4) and (5), what model would you use to predict TenYearCHD\n",
    "## based on the recall?\n",
    "\n",
    "## Based on the recall scores I would use the AdaBoost model. The recall is substantially higher than \n",
    "## the recall for the Random Forest model."
   ]
  }
 ],
 "metadata": {
  "kernelspec": {
   "display_name": "conda_python3",
   "language": "python",
   "name": "conda_python3"
  },
  "language_info": {
   "codemirror_mode": {
    "name": "ipython",
    "version": 3
   },
   "file_extension": ".py",
   "mimetype": "text/x-python",
   "name": "python",
   "nbconvert_exporter": "python",
   "pygments_lexer": "ipython3",
   "version": "3.6.13"
  }
 },
 "nbformat": 4,
 "nbformat_minor": 5
}
